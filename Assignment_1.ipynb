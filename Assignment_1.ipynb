{
  "nbformat": 4,
  "nbformat_minor": 0,
  "metadata": {
    "colab": {
      "name": "Untitled0.ipynb",
      "provenance": [],
      "collapsed_sections": []
    },
    "kernelspec": {
      "name": "python3",
      "display_name": "Python 3"
    },
    "language_info": {
      "name": "python"
    }
  },
  "cells": [
    {
      "cell_type": "code",
      "execution_count": null,
      "metadata": {
        "id": "aBXKKhWeOSfL"
      },
      "outputs": [],
      "source": [
        "1. In the below elements which of them are values or an expression? eg:- values can be integer or string and expressions will be mathematical operators.\n",
        "* Expression\n",
        "'hello' - Value\n",
        "-87.8 - Value\n",
        "-  Expression\n",
        "/ Expression\n",
        "+\tExpression\n",
        "6 Value\n",
        "\n",
        "2. What is the difference between string and variable?\n",
        "string is a data type \n",
        "variable is a reserved memory location to store values.\n",
        "\n",
        "3. Describe three different data types.\n",
        "Ans :\n",
        "int - Numerical values\n",
        "List- are just like the arrays, declared in other languages which is a ordered collection of data\n",
        "string-are arrays of bytes representing Unicode characters\n",
        "\n",
        "4. What is an expression made up of? What do all expressions do?\n",
        "Ans : An expression evaluates to a value, expressions are made up of logical arguments and use to compute any sort of process or a particual task and returns a value.\n",
        "For example: \n",
        "    Computing sum of two values (sum) = a + b \n",
        "5. This assignment statements, like spam = 10. What is the difference between an expression and a statement?\n",
        "Ans : A statement does something, like creating a variable or displaying a value, it only does whatever the statement says.\n",
        "Here, spam= 10 expressing that spam variable has a value of 10.\n",
        "\n",
        "on the other hand, An expression evaluates to a value, expressions are made up of logical arguments and use to compute any sort of process or a particual task and returns a value.\n",
        "For example: \n",
        "    Computing sum of two values (sum) = a + b\n",
        "\n",
        "6. After running the following code, what does the variable bacon contain?\n",
        "Ans: bacon = 22, It will give the output as 22\n",
        "bacon + 1,  it will give output as 23\n",
        "\n",
        "7. What should the values of the following two terms be?\n",
        "'spam' + 'spamspam', output will be concatenation of both string 'spamspamspam'\n",
        "'spam' * 3, it will print the the string thrice as in case of multipication string will multiply hence output will be 'spamspamspam'\n",
        "\n",
        "8. Why is eggs a valid variable name while 100 is invalid?\n",
        "Ans: Because, A variable name must start with a letter or the underscore character. A variable name cannot start with a number\n",
        "\n",
        "9. What three functions can be used to get the integer, floating-point number, or string version of a value?\n",
        "Ans: for integer int, for floating point number float and for string str\n",
        "\n",
        "10. Why does this expression cause an error? How can you fix it?\n",
        "'I have eaten ' + 99 + ' burritos.'\n",
        "Ans: Because Here, we are adding integer type value with string hence it is throwing type error\n",
        "We can typecast the int value to string value and get the actual output i.e 'I have eaten ' + str(99) + ' burritos.'\n"
      ]
    }
  ]
}