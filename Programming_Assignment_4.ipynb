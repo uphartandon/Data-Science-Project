{
 "cells": [
  {
   "cell_type": "markdown",
   "id": "bc24025f",
   "metadata": {},
   "source": [
    "1.\tWrite a Python Program to Find the Factorial of a Number?\n",
    "2.\tWrite a Python Program to Display the multiplication Table?\n",
    "3.\tWrite a Python Program to Print the Fibonacci sequence?\n",
    "4.\tWrite a Python Program to Check Armstrong Number?\n",
    "5.\tWrite a Python Program to Find Armstrong Number in an Interval?\n",
    "6.\tWrite a Python Program to Find the Sum of Natural Numbers?\n",
    "\n"
   ]
  },
  {
   "cell_type": "code",
   "execution_count": null,
   "id": "e6e5f667",
   "metadata": {},
   "outputs": [],
   "source": [
    "# Write a Python Program to Find the Factorial of a Number?\n",
    "\n",
    "fact = 1\n",
    "print(\"Please provide a number greater than 0 to get it factorial:\")\n",
    "\n",
    "n = int(input())\n",
    "if n <0:\n",
    "    print(\"Please provide number greater than 0\")\n",
    "elif n == 0 or n ==1:\n",
    "    print(\"Factorial is\", 1)\n",
    "elif n>1:\n",
    "    for n in range(1,n+1):\n",
    "        fact = fact *n\n",
    "    print(\"Factorial for the given number\",n,\"is:\",fact)\n",
    "\n",
    "    "
   ]
  },
  {
   "cell_type": "code",
   "execution_count": null,
   "id": "4051ae20",
   "metadata": {},
   "outputs": [],
   "source": [
    "# Write a Python Program to Display the multiplication Table?\n",
    "\n",
    "n = int(input(\"Please provide the number greater than 0 to print the table: \"))\n",
    "if n<0 or n==0:\n",
    "    print(\"Please provide number greater than 0\")\n",
    "else:\n",
    "    for i in range (1,11):\n",
    "        print(f\"{n}'x'{i}\",\"=\",n*i)\n",
    "\n",
    "\n",
    "\n"
   ]
  },
  {
   "cell_type": "code",
   "execution_count": null,
   "id": "7ed38119",
   "metadata": {},
   "outputs": [],
   "source": [
    "# Write a Python Program to Print the Fibonacci sequence?\n",
    "\n",
    "u_inp = int(input(\"Please provide n: \"))\n",
    "n1=0\n",
    "n2 =1\n",
    "sum = 0\n",
    "if u_inp<0:\n",
    "    print(\"Please provide the value greater than 1\")\n",
    "else:\n",
    "    for i in range (0,u_inp):\n",
    "        print(sum, end = \" \")\n",
    "        n1 = n2\n",
    "        n2 = sum\n",
    "        sum = n1+n2\n",
    "\n",
    "\n",
    "\n"
   ]
  },
  {
   "cell_type": "code",
   "execution_count": null,
   "id": "b6b3b036",
   "metadata": {},
   "outputs": [],
   "source": [
    "# Write a Python Program to Check Armstrong Number?\n",
    "\n",
    "user_inp = input(\"Please provid a number to check Armstrong number: \")\n",
    "num = list(map(int,user_inp))\n",
    "n = len(user_inp)\n",
    "intnumber = int(user_inp)\n",
    "sum = 0\n",
    "for i in range(len(num)):\n",
    "    sum = num[i]**n+sum\n",
    "if sum == intnumber:\n",
    "    print(\"Number is an Armstrong Number\")\n",
    "else:\n",
    "    print(\"Number is Not an Armstrong number\")\n",
    "\n",
    "\n"
   ]
  },
  {
   "cell_type": "code",
   "execution_count": null,
   "id": "681e1da2",
   "metadata": {},
   "outputs": [],
   "source": [
    "# Write a Python Program to Find Armstrong Number in an Interval\n",
    "\n",
    "start_interval = int(input(\"Please provide the start range:\"))\n",
    "end_interval = int(input(\"Please provide the end range: \"))\n",
    "for i in range(start_interval,end_interval):\n",
    "    str_inter = str(i)\n",
    "#     print(str_inter)\n",
    "    num = list(map(int,str_inter))\n",
    "#     print(\" this is num\",num)\n",
    "    sum = 0\n",
    "    for j in range(len(num)):\n",
    "        n = len(str_inter)\n",
    "        sum = num[j]**n+sum\n",
    "    if sum ==i:\n",
    "        print(f'Armstrong number in range {start_interval} & {end_interval}:',i)\n",
    "    i = i+1\n",
    "\n",
    "    \n",
    "    \n"
   ]
  },
  {
   "cell_type": "code",
   "execution_count": null,
   "id": "ad234aa1",
   "metadata": {},
   "outputs": [],
   "source": [
    "# Write a Python Program to Find the Sum of Natural Numbers?\n",
    "\n",
    "try:\n",
    "    k = 'y'\n",
    "    sum = 0\n",
    "    while (k == 'y'):\n",
    "        u_inp = int(input(\"Please provide a natural number\"))\n",
    "        if (type(u_inp) == float()) or u_inp < 1:\n",
    "            print(\"Incorrect number, Please provide a natural number greater than 0\")\n",
    "            k = input(\"Do you want to continue ?? 'y' or 'n'\")\n",
    "            continue\n",
    "\n",
    "        else:\n",
    "            sum = sum + u_inp\n",
    "            print(\"Sum of the given number as of now is\", sum)\n",
    "            k = input(\"Do you want to continue 'y' or 'n'\")\n",
    "            if k not in ('y', 'n'):\n",
    "                print(\"Please only press 'y' or 'n'\")\n",
    "                k = input(\"Do you want to continue 'y' or 'n'\")\n",
    "                break\n",
    "            continue\n",
    "    print(\"The sum of given natural numbers are\",sum)\n",
    "    print(\"Thank you for providing your inputs\")\n",
    "\n",
    "except Exception as e:\n",
    "    print(\"there is an error\", e)"
   ]
  },
  {
   "cell_type": "code",
   "execution_count": null,
   "id": "f770714e",
   "metadata": {},
   "outputs": [],
   "source": []
  },
  {
   "cell_type": "code",
   "execution_count": null,
   "id": "2a1f2cec",
   "metadata": {},
   "outputs": [],
   "source": []
  },
  {
   "cell_type": "code",
   "execution_count": null,
   "id": "607bbe9b",
   "metadata": {},
   "outputs": [],
   "source": []
  },
  {
   "cell_type": "code",
   "execution_count": null,
   "id": "81e7d3a0",
   "metadata": {},
   "outputs": [],
   "source": []
  },
  {
   "cell_type": "code",
   "execution_count": null,
   "id": "f57c4f39",
   "metadata": {},
   "outputs": [],
   "source": []
  }
 ],
 "metadata": {
  "kernelspec": {
   "display_name": "Python 3 (ipykernel)",
   "language": "python",
   "name": "python3"
  },
  "language_info": {
   "codemirror_mode": {
    "name": "ipython",
    "version": 3
   },
   "file_extension": ".py",
   "mimetype": "text/x-python",
   "name": "python",
   "nbconvert_exporter": "python",
   "pygments_lexer": "ipython3",
   "version": "3.9.7"
  }
 },
 "nbformat": 4,
 "nbformat_minor": 5
}
