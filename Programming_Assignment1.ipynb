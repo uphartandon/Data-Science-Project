{
 "cells": [
  {
   "cell_type": "code",
   "execution_count": 3,
   "id": "0989ad3e",
   "metadata": {},
   "outputs": [
    {
     "name": "stdout",
     "output_type": "stream",
     "text": [
      "Hello Python\n"
     ]
    }
   ],
   "source": [
    "\"\"\"1.\tWrite a Python program to print \"Hello Python\"?\"\"\"\n",
    "\n",
    "print(\"Hello Python\")"
   ]
  },
  {
   "cell_type": "code",
   "execution_count": 10,
   "id": "ad6e90b6",
   "metadata": {},
   "outputs": [
    {
     "name": "stdout",
     "output_type": "stream",
     "text": [
      "Please provide the first input22\n",
      "Please provide the second input22\n",
      "Which operation do you want to perform? Division or Addition:Addition\n",
      "44\n"
     ]
    }
   ],
   "source": [
    "\"\"\"2.\tWrite a Python program to do arithmetical operations addition and division\"\"\"\n",
    "\n",
    "num1=int(input(\"Please provide the first input\"))\n",
    "num2=int(input(\"Please provide the second input\"))\n",
    "oper= input(\"Which operation do you want to perform? Division or Addition:\")\n",
    "if oper ==\"Addition\":\n",
    "    sum = num1+num2\n",
    "    print(sum)\n",
    "elif oper==\"Division\":\n",
    "    div= num1/num2\n",
    "    print(div)\n",
    "else:\n",
    "    print(\"provide correct operation details\")\n",
    "    \n"
   ]
  },
  {
   "cell_type": "code",
   "execution_count": 4,
   "id": "6db59406",
   "metadata": {},
   "outputs": [
    {
     "name": "stdout",
     "output_type": "stream",
     "text": [
      "Welcome to area of triangle calculator: \n",
      "Please provide the base and height of the triangle to calculate the area \n",
      "Please provide the base: 22\n",
      "Please provide the height: 22\n",
      "Area of triangle is:  242.0\n"
     ]
    }
   ],
   "source": [
    "\"\"\"3.\tWrite a Python program to find the area of a triangle\"\"\"\n",
    "\n",
    "print(\"Welcome to area of triangle calculator:\",\"\\n\"\n",
    "      \"Please provide the base and height of the triangle to calculate the area \")\n",
    "base = int(input(\"Please provide the base: \"))\n",
    "height = int(input(\"Please provide the height: \"))\n",
    "Area =  (base*height)/2\n",
    "print(\"Area of triangle is: \", Area)\n"
   ]
  },
  {
   "cell_type": "code",
   "execution_count": 5,
   "id": "16ff61e4",
   "metadata": {},
   "outputs": [
    {
     "name": "stdout",
     "output_type": "stream",
     "text": [
      "Please provide the first variable: 2\n",
      "Please provide the second variable: 4\n",
      "The value of first variable after swapping is 4\n",
      "The value of second variable after swapping is 2\n"
     ]
    }
   ],
   "source": [
    "\"\"\"4.\tWrite a Python program to swap two variables\"\"\"\n",
    "\n",
    "var1= input(\"Please provide the first variable: \")\n",
    "var2 = input(\"Please provide the second variable: \")\n",
    "temp=var1\n",
    "var1=var2\n",
    "var2=temp\n",
    "print(\"The value of first variable after swapping is {}\".format(var1))\n",
    "print(\"The value of second variable after swapping is {}\".format(var2))\n"
   ]
  },
  {
   "cell_type": "code",
   "execution_count": null,
   "id": "1871ff68",
   "metadata": {},
   "outputs": [
    {
     "name": "stdout",
     "output_type": "stream",
     "text": [
      "This program will generate a random number between a given range\n"
     ]
    }
   ],
   "source": [
    "\"\"\"5.\tWrite a Python program to generate a random number?\"\"\"\n",
    "import random\n",
    "\n",
    "print(\"This program will generate a random number between a given range\")\n",
    "r1= int(input(\"Please provide the starting range\"))\n",
    "r2= int(input(\"Please provide the ending range\"))\n",
    "print(f\"The random number generated between range {r1} and {r2} is\", random.randint(r1,r2))"
   ]
  },
  {
   "cell_type": "code",
   "execution_count": null,
   "id": "36575601",
   "metadata": {},
   "outputs": [],
   "source": []
  }
 ],
 "metadata": {
  "kernelspec": {
   "display_name": "Python 3 (ipykernel)",
   "language": "python",
   "name": "python3"
  },
  "language_info": {
   "codemirror_mode": {
    "name": "ipython",
    "version": 3
   },
   "file_extension": ".py",
   "mimetype": "text/x-python",
   "name": "python",
   "nbconvert_exporter": "python",
   "pygments_lexer": "ipython3",
   "version": "3.9.7"
  }
 },
 "nbformat": 4,
 "nbformat_minor": 5
}
