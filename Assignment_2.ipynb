{
 "cells": [
  {
   "cell_type": "code",
   "execution_count": null,
   "id": "0990e966",
   "metadata": {},
   "outputs": [],
   "source": [
    "\"\"\" \n",
    "# 1.What are the two values of the Boolean data type? How do you write them?\n",
    "Ans. true and false are tow Boolean data type.\n",
    "\n",
    "2. What are the three different types of Boolean operators?\n",
    "Ans. Three different Boolean operators operators are:\n",
    "    1.and\n",
    "    2.or\n",
    "    3.not\n",
    "\n",
    "3. Make a list of each Boolean operator's truth tables (i.e. every possible combination of Boolean values for the operator and what it evaluate ).\n",
    "Ans. Boolean operators truth table are given below:\n",
    "    AND Truth Table\n",
    "    x\tand\ty\tReturns\n",
    "    True\tand\tTrue\tTrue\n",
    "    True\tand\tFalse\tFalse\n",
    "    False\tand\tTrue\tFalse\n",
    "    False\tand\tFalse\tFalse\n",
    "    OR Truth Table\n",
    "    x\tor\ty\tReturns\n",
    "    True\tor\tTrue\tTrue\n",
    "    True\tor\tFalse\tTrue\n",
    "    False\tor\tTrue\tTrue\n",
    "    False\tor\tFalse\tFalse\n",
    "    NOT Truth Table\n",
    "    not\tx\tReturns\n",
    "    not\tTrue\tFalse\n",
    "    not\tFalse\tTru\n",
    " \n",
    "4. What are the values of the following expressions?\n",
    "(5 > 4) and (3 == 5) --> False\n",
    "not (5 > 4)--> False\n",
    "(5 > 4) or (3 == 5) -->True\n",
    "not ((5 > 4) or (3 == 5))--- False\n",
    "(True and True) and (True == False)--- False\n",
    "(not False) or (not True)--- True\n",
    "\n",
    "5. What are the six comparison operators?\n",
    "Ans: Six comparison operators are:\n",
    "       ==,>,<,<=,>=,=!,<!,>!\n",
    "\n",
    "6. How do you tell the difference between the equal to and assignment operators?Describe a condition and when you would use one.\n",
    "Ans. a=2\n",
    "     b=1\n",
    "    if (a-b)==1:\n",
    "       print(\"True\")\n",
    "     else:\n",
    "       print(\"False\")\n",
    "7. Identify the three blocks in this code:\n",
    "Ans.\n",
    "    spam = 0\n",
    "    if spam == 10:\n",
    "       print('eggs')\n",
    "    if spam > 5:\n",
    "        print('bacon')\n",
    "    else:\n",
    "       print('ham')\n",
    "       \n",
    "8. Write code that prints Hello if 1 is stored in spam, prints Howdy if 2 is stored in spam, and prints Greetings! if anything else is stored in spam.\n",
    " Ans: Please refer line 13 for code execution.\n",
    "\n",
    "\n",
    "9.If your programme is stuck in an endless loop, what keys you’ll press?\n",
    "Ans. You can press Ctrl + C\n",
    "\n",
    "10. How can you tell the difference between break and continue?\n",
    "Ans. break() stop the execution if the given expression in loop comes true,  while continue() continue the process and again exectute the loop until the condition in the loop completed.\n",
    "\n",
    "11. In a for loop, what is the difference between range(10), range(0, 10), and range(0, 10, 1)?\n",
    "Ans. range(10)-In a for loop if range(10) it gives a range out from 0 to 9, output will be 0,1,2,3,4,5,6,7,8,9\n",
    "     range(0,10)- In this condition it starts from zero and end at 10(Exluding 10 place) therefore output will be 0,1,2,3,4,5,6,7,8,9\n",
    "     range(0,10,1)- Output will be 0,1,2,3,4,5,6,7,8,9 but in this scenario an additional step argument \"1\" is added. \n",
    "\n",
    "12. Write a short program that prints the numbers 1 to 10 using a for loop. Then write an equivalent program that prints the numbers 1 to 10 using a while loop.\n",
    "Ans. Check line32 and line 37 for answer.\n",
    "\n",
    "13. If you had a function named bacon() inside a module named spam, how would you call it after importing spam?\n",
    "Ans. import spam\n",
    "     print(import.bacon())\n",
    "     \n",
    "     or\n",
    "     \n",
    "     from spam import bacon\n",
    "\n",
    "\n",
    "\"\"\""
   ]
  },
  {
   "cell_type": "code",
   "execution_count": 13,
   "id": "f33d6d2c",
   "metadata": {},
   "outputs": [
    {
     "name": "stdout",
     "output_type": "stream",
     "text": [
      "Please provide the value of spam3\n",
      "Greetings!\n"
     ]
    }
   ],
   "source": [
    "# Question 8 Answer\n",
    "\n",
    "spam= int(input(\"Please provide the value of spam\"))\n",
    "if spam==1:\n",
    "    print(\"Hello\")\n",
    "elif spam==2:\n",
    "    print(\"Howdy\")\n",
    "else:\n",
    "    print(\"Greetings!\")"
   ]
  },
  {
   "cell_type": "code",
   "execution_count": 32,
   "id": "4e7426a1",
   "metadata": {},
   "outputs": [
    {
     "name": "stdout",
     "output_type": "stream",
     "text": [
      "1 2 3 4 5 6 7 8 9 10 "
     ]
    }
   ],
   "source": [
    "\"\"\" 12. Write a short program that prints the numbers 1 to 10 using a for loop.\n",
    "then write an equivalent program that prints the numbers 1 to 10 using a while loop\"\"\"\n",
    "\n",
    "#using for loop\n",
    "\n",
    "for i in range(1,11):\n",
    "    print(i,end=\" \")"
   ]
  },
  {
   "cell_type": "code",
   "execution_count": 37,
   "id": "947b7598",
   "metadata": {},
   "outputs": [
    {
     "name": "stdout",
     "output_type": "stream",
     "text": [
      "1 2 3 4 5 6 7 8 9 10 "
     ]
    }
   ],
   "source": [
    "\"\"\" 12. Write a short program that prints the numbers 1 to 10 using a for loop.\n",
    "then write an equivalent program that prints the numbers 1 to 10 using a while loop\"\"\"\n",
    "\n",
    "#using While loop\n",
    "i=1\n",
    "while (i<11):\n",
    "    print(i,end=\" \")\n",
    "    i=i+1\n",
    "    continue"
   ]
  },
  {
   "cell_type": "code",
   "execution_count": 34,
   "id": "5be77022",
   "metadata": {},
   "outputs": [
    {
     "name": "stdout",
     "output_type": "stream",
     "text": [
      "10 "
     ]
    }
   ],
   "source": []
  },
  {
   "cell_type": "code",
   "execution_count": null,
   "id": "086168bd",
   "metadata": {},
   "outputs": [],
   "source": []
  }
 ],
 "metadata": {
  "kernelspec": {
   "display_name": "Python 3 (ipykernel)",
   "language": "python",
   "name": "python3"
  },
  "language_info": {
   "codemirror_mode": {
    "name": "ipython",
    "version": 3
   },
   "file_extension": ".py",
   "mimetype": "text/x-python",
   "name": "python",
   "nbconvert_exporter": "python",
   "pygments_lexer": "ipython3",
   "version": "3.9.7"
  }
 },
 "nbformat": 4,
 "nbformat_minor": 5
}
