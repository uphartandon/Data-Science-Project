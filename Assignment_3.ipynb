{
 "cells": [
  {
   "cell_type": "markdown",
   "id": "bb755f8a",
   "metadata": {},
   "source": [
    "1.\tWrite a Python Program to Check if a Number is Positive, Negative or Zero?\n",
    "2.\tWrite a Python Program to Check if a Number is Odd or Even?\n",
    "3.\tWrite a Python Program to Check Leap Year?\n",
    "4.\tWrite a Python Program to Check Prime Number?\n",
    "5.\tWrite a Python Program to Print all Prime Numbers in an Interval of 1-10000?\n"
   ]
  },
  {
   "cell_type": "code",
   "execution_count": null,
   "id": "61fd4f96",
   "metadata": {},
   "outputs": [],
   "source": [
    "#1 Write a Python Program to Check if a Number is Positive, Negative or Zero?\n",
    "\n",
    "\n",
    "user_inp = int(input(\"Please provide the number\"\"\\n\"))\n",
    "if user_inp<0:\n",
    "    print(f\"{user_inp} is a negative number\")\n",
    "elif user_inp == 0:\n",
    "    print(f\"{user_inp} is zero\")\n",
    "else:\n",
    "    print(f\"{user_inp} is a positive number\")"
   ]
  },
  {
   "cell_type": "code",
   "execution_count": null,
   "id": "a060ecb9",
   "metadata": {},
   "outputs": [],
   "source": [
    "#2 Write a Python Program to Check if a Number is Odd or Even?\n",
    "\n",
    "user_inp = int(input(\"Please provide the number\"\"\\n\"))\n",
    "if user_inp % 2 == 0:\n",
    "    print(\"Given number is a even number\")\n",
    "else:\n",
    "    print(\"Number is Odd number\")\n",
    "    \n",
    "               \n",
    "               \n",
    "        "
   ]
  },
  {
   "cell_type": "code",
   "execution_count": 7,
   "id": "fb98a3bc",
   "metadata": {},
   "outputs": [
    {
     "name": "stdout",
     "output_type": "stream",
     "text": [
      "Please provide year to check \n",
      "2002\n",
      "Year is not a leap year\n",
      "Do you want to check year is leap year or not? 'y' 'or' 'n'n\n",
      "Thank you for using leap year check calculator\n"
     ]
    }
   ],
   "source": [
    "#3 Write a Python Program to Check Leap Year?\n",
    "\n",
    "\n",
    "\n",
    "command = 'y'\n",
    "while (command =='y'):\n",
    "    user_inp = int(input(\"Please provide year to check \"\"\\n\"))\n",
    "    if (user_inp%4 ==0) and (user_inp% 100 !=0):\n",
    "        print(\"Provided year is a leap year\")\n",
    "    elif user_inp%100==0 and user_inp%400==0:\n",
    "        print(\"Provided year is a leap year\")\n",
    "    else:\n",
    "        print(\"Year is not a leap year\")\n",
    "    command = input(\"Do you want to check year is leap year or not? 'y' 'or' 'n'\")\n",
    "    continue\n",
    "else:\n",
    "    print(\"Thank you for using leap year check calculator\")\n",
    "    \n",
    "    "
   ]
  },
  {
   "cell_type": "code",
   "execution_count": null,
   "id": "7f0c0225",
   "metadata": {},
   "outputs": [],
   "source": [
    "#4 Write a Python Program to Check Prime Number?\n",
    "\n",
    "user_inp = int(input(\"Please provide the number\"\"\\n\"))\n",
    "if user_inp<=1:\n",
    "    print(\"Please provide the number greater than 1\")\n",
    "elif user_inp % 2==0 or user_inp % 3  == 0:\n",
    "    print(\"Given number is a not prime\")\n",
    "else:\n",
    "    print(\"Number is prime number\")"
   ]
  },
  {
   "cell_type": "code",
   "execution_count": null,
   "id": "2ed1bed1",
   "metadata": {},
   "outputs": [],
   "source": [
    "#5 Write a Python Program to Print all Prime Numbers in an Interval of 1-10000?\n",
    "\n",
    "prime_num_lis = [num for num in range(1,10000) if num != 1 and not (num % 2 == 0 or num % 3 == 0)]\n",
    "print(prime_num_lis)"
   ]
  },
  {
   "cell_type": "code",
   "execution_count": null,
   "id": "588ed0ce",
   "metadata": {},
   "outputs": [],
   "source": []
  }
 ],
 "metadata": {
  "kernelspec": {
   "display_name": "Python 3 (ipykernel)",
   "language": "python",
   "name": "python3"
  },
  "language_info": {
   "codemirror_mode": {
    "name": "ipython",
    "version": 3
   },
   "file_extension": ".py",
   "mimetype": "text/x-python",
   "name": "python",
   "nbconvert_exporter": "python",
   "pygments_lexer": "ipython3",
   "version": "3.9.7"
  }
 },
 "nbformat": 4,
 "nbformat_minor": 5
}
