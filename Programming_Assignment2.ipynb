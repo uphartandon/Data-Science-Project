{
 "cells": [
  {
   "cell_type": "markdown",
   "id": "923aabdc",
   "metadata": {},
   "source": [
    "1.\tWrite a Python program to convert kilometers to miles?\n",
    "2.\tWrite a Python program to convert Celsius to Fahrenheit?\n",
    "3.\tWrite a Python program to display calendar?\n",
    "4.\tWrite a Python program to solve quadratic equation?\n",
    "5.\tWrite a Python program to swap two variables without temp variable?\n"
   ]
  },
  {
   "cell_type": "code",
   "execution_count": null,
   "id": "48fb2c2e",
   "metadata": {},
   "outputs": [],
   "source": [
    "# Write a Python program to convert kilometers to miles?\n",
    "\n",
    "user_inp = float(input(\"Please provide the distance in Km to change it to miles:\" \"\\n\"))\n",
    "print(\"Converting km into miles........\")\n",
    "km_mile = user_inp/1.609\n",
    "print(\"Km to mile conversion is\",round(km_mile,3),\"miles\")"
   ]
  },
  {
   "cell_type": "code",
   "execution_count": null,
   "id": "efb1caed",
   "metadata": {},
   "outputs": [],
   "source": [
    "#Write a Python program to convert Celsius to Fahrenheit\n",
    "user_inp = float(input(\"Please provide the temp in °C to change it in °F:\" \"\\n\"))\n",
    "print(\"Converting °C into °F........\")\n",
    "fer = (user_inp*(9/5)) + 32\n",
    "print(\"°C to °F conversion is\", fer,\"°F\")\n"
   ]
  },
  {
   "cell_type": "code",
   "execution_count": 4,
   "id": "260a72ba",
   "metadata": {},
   "outputs": [
    {
     "name": "stdout",
     "output_type": "stream",
     "text": [
      "Please provide the year in YYYY format\t2022\n",
      "Please provide the month number\t02\n",
      "   February 2022\n",
      "Mo Tu We Th Fr Sa Su\n",
      "    1  2  3  4  5  6\n",
      " 7  8  9 10 11 12 13\n",
      "14 15 16 17 18 19 20\n",
      "21 22 23 24 25 26 27\n",
      "28\n",
      "\n"
     ]
    }
   ],
   "source": [
    "#Write a Python program to display calendar?\n",
    "import calendar\n",
    "\n",
    "yy = int(input(\"Please provide the year in YYYY format\" \"\\t\"))  # year\n",
    "mm = int(input(\"Please provide the month number\" \"\\t\"))    # month\n",
    "\n",
    "# display the calendar\n",
    "print(calendar.month(yy, mm))"
   ]
  },
  {
   "cell_type": "code",
   "execution_count": 27,
   "id": "9447813e",
   "metadata": {},
   "outputs": [
    {
     "name": "stdout",
     "output_type": "stream",
     "text": [
      "Please provide the value of 'a' to compute the value of x :2\n",
      "Please provide the value of 'b' to compute the value of x :5\n",
      "Please provide the value of 'c' to compute the value of x :3\n",
      "Quadratic root of equation 2x^2+5x+3 are (-4+0j) , (-6+0j)\n"
     ]
    }
   ],
   "source": [
    "#Write a Python program to solve quadratic equation?\n",
    "import cmath\n",
    "\n",
    "a = int(input(\"Please provide the value of 'a' to compute the value of x :\"))\n",
    "b = int(input(\"Please provide the value of 'b' to compute the value of x :\"))\n",
    "c = int(input(\"Please provide the value of 'c' to compute the value of x :\"))\n",
    "d = b**2 - 4*a*c\n",
    "x1 = (-b+cmath.sqrt(d))/2*a\n",
    "x2 = (-b-cmath.sqrt(d))/2*a\n",
    "print (f\"Quadratic root of equation {a}x^2+{b}x+{c} are\",x1,\",\",x2)\n"
   ]
  },
  {
   "cell_type": "code",
   "execution_count": 8,
   "id": "d41e94b0",
   "metadata": {},
   "outputs": [
    {
     "name": "stdout",
     "output_type": "stream",
     "text": [
      "Please provide the first input: 10\n",
      "Please provide the second input: 5\n",
      "After swapping the data first number is 5 second number is 10\n"
     ]
    }
   ],
   "source": [
    "#Write a Python program to swap two variables without temp variable?\n",
    "var1 = int(input(\"Please provide the first input: \"))\n",
    "var2 = int(input(\"Please provide the second input: \"))\n",
    "var1 = var1+var2\n",
    "var2 = var1-var2\n",
    "var1 = var1-var2\n",
    "print(\"After swapping the data\",\"first number is\",var1, \"second number is\", var2)"
   ]
  },
  {
   "cell_type": "code",
   "execution_count": null,
   "id": "f39d987d",
   "metadata": {},
   "outputs": [],
   "source": []
  },
  {
   "cell_type": "code",
   "execution_count": null,
   "id": "291bda20",
   "metadata": {},
   "outputs": [],
   "source": []
  }
 ],
 "metadata": {
  "kernelspec": {
   "display_name": "Python 3 (ipykernel)",
   "language": "python",
   "name": "python3"
  },
  "language_info": {
   "codemirror_mode": {
    "name": "ipython",
    "version": 3
   },
   "file_extension": ".py",
   "mimetype": "text/x-python",
   "name": "python",
   "nbconvert_exporter": "python",
   "pygments_lexer": "ipython3",
   "version": "3.9.7"
  }
 },
 "nbformat": 4,
 "nbformat_minor": 5
}
